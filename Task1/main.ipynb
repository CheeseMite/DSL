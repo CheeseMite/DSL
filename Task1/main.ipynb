{
  "nbformat": 4,
  "nbformat_minor": 0,
  "metadata": {
    "colab": {
      "name": "1.ipynb",
      "provenance": [],
      "collapsed_sections": []
    },
    "kernelspec": {
      "name": "python3",
      "display_name": "Python 3.9.5 64-bit"
    },
    "language_info": {
      "name": "python",
      "version": "3.9.5"
    },
    "interpreter": {
      "hash": "63fd5069d213b44bf678585dea6b12cceca9941eaf7f819626cde1f2670de90d"
    }
  },
  "cells": [
    {
      "cell_type": "code",
      "metadata": {
        "id": "aVlqi4luvGGM"
      },
      "source": [
        "from typing import List"
      ],
      "execution_count": 16,
      "outputs": []
    },
    {
      "cell_type": "markdown",
      "metadata": {
        "id": "DZBmWbX2w6b4"
      },
      "source": [
        "Import from typing for annotations"
      ]
    },
    {
      "cell_type": "code",
      "metadata": {
        "id": "Mfwv7lOpueh3"
      },
      "source": [
        "def split_by_whitespaces(text: str, whitespaces : List, file : bool = False) -> List:\n",
        "    # get text from file if necessary\n",
        "    if (file):\n",
        "      with open(text) as f:\n",
        "        text = f.read()\n",
        "\n",
        "    result = list()\n",
        "    \n",
        "    # temporary variable to store part of text\n",
        "    word = list()  \n",
        "    for symbol in text:\n",
        "        # add symbols to temporary var until get whitespace symbol\n",
        "        if (symbol not in whitespaces):\n",
        "            word.append(symbol)\n",
        "\n",
        "        # save part of text to the result in case of whitespace symbol \n",
        "        elif (word): \n",
        "            result.append(word.copy())\n",
        "            word.clear()\n",
        "\n",
        "    # in case if text doesn't end with whitespace symbol\n",
        "    if (word):\n",
        "      result.append(word.copy())\n",
        "    \n",
        "    return result"
      ],
      "execution_count": 17,
      "outputs": []
    },
    {
      "cell_type": "code",
      "metadata": {
        "colab": {
          "base_uri": "https://localhost:8080/"
        },
        "id": "DKqjhF7nrj9E",
        "outputId": "b70a00cb-fa14-4279-d7ad-b72ed8b03159"
      },
      "source": [
        "whitespaces = [' ', '\\n', '\\t', '\\b']\n",
        "text = ' some text       in the midnight dreary \\t nameless here for evermore \\n\\n and  '\n",
        "            \n",
        "result = split_by_whitespaces(text, whitespaces)\n",
        "print(result)"
      ],
      "execution_count": 18,
      "outputs": [
        {
          "output_type": "stream",
          "name": "stdout",
          "text": [
            "[['s', 'o', 'm', 'e'], ['t', 'e', 'x', 't'], ['i', 'n'], ['t', 'h', 'e'], ['m', 'i', 'd', 'n', 'i', 'g', 'h', 't'], ['d', 'r', 'e', 'a', 'r', 'y'], ['n', 'a', 'm', 'e', 'l', 'e', 's', 's'], ['h', 'e', 'r', 'e'], ['f', 'o', 'r'], ['e', 'v', 'e', 'r', 'm', 'o', 'r', 'e'], ['a', 'n', 'd']]\n"
          ]
        }
      ]
    },
    {
      "cell_type": "code",
      "metadata": {
        "colab": {
          "base_uri": "https://localhost:8080/"
        },
        "id": "XR6LrEc42q9j",
        "outputId": "df9eec58-505b-49bb-c88e-dea1c4a379e6"
      },
      "source": [
        "whitespaces = [' ', '\\n', '\\t', '\\b']\n",
        "text = 'test.txt'\n",
        "            \n",
        "result = split_by_whitespaces(text, whitespaces, file=True)\n",
        "print(result)"
      ],
      "execution_count": 19,
      "outputs": [
        {
          "output_type": "stream",
          "name": "stdout",
          "text": [
            "[['c', 'l', 'e', 'a', 'n'], ['p', 'r', 'o', 'c'], ['f', 'a', 'r'], [';', 'e', 'n', 't', 'r', 'y'], ['p', 'o', 'i', 'n', 't'], ['f', 'r', 'o', 'm'], ['P', 'C', '-', 'D', 'O', 'S'], ['p', 'u', 's', 'h'], ['d', 's'], [';', 's', 'a', 'v', 'e'], ['D', 'S', ':', '0', '0', '0', '0'], ['f', 'o', 'r'], ['f', 'i', 'n', 'a', 'l'], ['x', 'o', 'r'], ['a', 'x', ',', 'a', 'x'], [';', 'r', 'e', 't', 'u', 'r', 'n'], ['t', 'o'], ['P', 'C', '-', 'D', 'O', 'S'], ['p', 'u', 's', 'h'], ['a', 'x'], ['m', 'o', 'v'], ['a', 'x', ',', 'd', 'a', 't', 'a'], [';', 'm', 'a', 'k', 'e'], ['o', 'u', 'r'], ['d', 'a', 't', 'a'], ['s', 'e', 'g', 'm', 'e', 'n', 't'], ['m', 'o', 'v'], ['e', 's', ',', 'a', 'x'], [';', 'a', 'd', 'd', 'r', 'e', 's', 's', 'a', 'b', 'l', 'e'], ['v', 'i', 'a'], ['E', 'S'], ['r', 'e', 'g', 'i', 's', 't', 'e', 'r'], ['c', 'a', 'l', 'l'], ['i', 'n', 'f', 'i', 'l', 'e'], [';', 'g', 'e', 't'], ['p', 'a', 't', 'h'], ['a', 'n', 'd'], ['f', 'i', 'l', 'e'], ['s', 'p', 'e', 'c', '.']]\n"
          ]
        }
      ]
    }
  ]
}